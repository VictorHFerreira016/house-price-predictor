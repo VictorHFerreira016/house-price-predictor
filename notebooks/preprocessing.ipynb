{
 "cells": [
  {
   "cell_type": "code",
   "execution_count": null,
   "id": "473412e6",
   "metadata": {},
   "outputs": [],
   "source": [
    "import pandas as pd"
   ]
  },
  {
   "cell_type": "code",
   "execution_count": null,
   "id": "21353c24",
   "metadata": {},
   "outputs": [],
   "source": [
    "df_house_prices = pd.read_csv(r'C:\\Users\\Aluno\\OneDrive\\Desktop\\PROJECTS\\data\\raw\\train.csv')\n",
    "df_house_prices = df_house_prices.drop(columns=['Id'])"
   ]
  },
  {
   "cell_type": "code",
   "execution_count": 12,
   "id": "b1b632a2",
   "metadata": {},
   "outputs": [
    {
     "name": "stdout",
     "output_type": "stream",
     "text": [
      "PoolQC\n",
      "Gd    3\n",
      "Ex    2\n",
      "Fa    2\n",
      "Name: count, dtype: int64\n",
      "PoolQC\n",
      "NaN    1453\n",
      "Name: count, dtype: int64\n"
     ]
    }
   ],
   "source": [
    "com_piscina = df_house_prices[df_house_prices[\"PoolArea\"] > 0]\n",
    "sem_piscina = df_house_prices[df_house_prices[\"PoolArea\"] == 0]\n",
    "\n",
    "# Verify the distribution of PoolQC (Pool Quality) values\n",
    "print(com_piscina[\"PoolQC\"].value_counts(dropna=False))\n",
    "print(sem_piscina[\"PoolQC\"].value_counts(dropna=False))"
   ]
  },
  {
   "cell_type": "code",
   "execution_count": 9,
   "id": "a859dee7",
   "metadata": {},
   "outputs": [
    {
     "data": {
      "text/plain": [
       "PoolQC          1453\n",
       "MiscFeature     1406\n",
       "Alley           1369\n",
       "Fence           1179\n",
       "MasVnrType       872\n",
       "FireplaceQu      690\n",
       "LotFrontage      259\n",
       "GarageQual        81\n",
       "GarageType        81\n",
       "GarageFinish      81\n",
       "GarageCond        81\n",
       "GarageYrBlt       81\n",
       "BsmtExposure      38\n",
       "BsmtFinType2      38\n",
       "BsmtQual          37\n",
       "BsmtFinType1      37\n",
       "BsmtCond          37\n",
       "MasVnrArea         8\n",
       "Electrical         1\n",
       "BldgType           0\n",
       "dtype: int64"
      ]
     },
     "execution_count": 9,
     "metadata": {},
     "output_type": "execute_result"
    }
   ],
   "source": [
    "df_house_prices.isna().sum().sort_values(ascending=False).head(20)"
   ]
  },
  {
   "cell_type": "code",
   "execution_count": null,
   "id": "457f47c2",
   "metadata": {},
   "outputs": [],
   "source": [
    "# Fill missing values in the list of categories with \"None\", due to the \n",
    "# fact that these categories are not applicable for some huses types.\n",
    "none_categories = [\"PoolQC\", \"Alley\", \"Fence\", \"FireplaceQu\", \"GarageQual\", \"GarageType\", \n",
    "                   \"GarageFinish\", \"GarageCond\", \"BsmtExposure\", \"BsmtFinType1\", \"BsmtFinType2\",\n",
    "                   \"BsmtQual\", \"BsmtCond\", \"MasVnrType\", \"MiscFeature\"]\n",
    "for i in none_categories:\n",
    "    df_house_prices[i] = df_house_prices[i].fillna(\"None\")"
   ]
  },
  {
   "cell_type": "code",
   "execution_count": null,
   "id": "51483b42",
   "metadata": {},
   "outputs": [],
   "source": [
    "# Fill missing values in numerical columns with 0\n",
    "df_house_prices[\"MasVnrArea\"] = df_house_prices[\"MasVnrArea\"].fillna(0)\n",
    "df_house_prices[\"GarageYrBlt\"] = df_house_prices[\"GarageYrBlt\"].fillna(0)"
   ]
  },
  {
   "cell_type": "code",
   "execution_count": null,
   "id": "e32e2ad3",
   "metadata": {},
   "outputs": [],
   "source": [
    "# Fill mising values in categorical columns with the mode\n",
    "df_house_prices['Electrical'] = df_house_prices['Electrical'].fillna(df_house_prices['Electrical'].mode()[0])"
   ]
  },
  {
   "cell_type": "code",
   "execution_count": null,
   "id": "f1ab20f1",
   "metadata": {},
   "outputs": [],
   "source": [
    "# It groups the 'LotFrontage' values by 'Neighborhood' and fills missing values with the median of each group.\n",
    "# The reason for this is that 'LotFrontage' measures the linear feet of street connected to the property, \n",
    "# and it is likely that properties in the same neighborhood have similar characteristics.\n",
    "df_house_prices['LotFrontage'] = df_house_prices.groupby('Neighborhood')['LotFrontage'].transform(\n",
    "    lambda x: x.fillna(x.median()))"
   ]
  },
  {
   "cell_type": "code",
   "execution_count": 37,
   "id": "2c558af9",
   "metadata": {},
   "outputs": [
    {
     "name": "stdout",
     "output_type": "stream",
     "text": [
      "count      1460.000000\n",
      "mean     180921.195890\n",
      "std       79442.502883\n",
      "min       34900.000000\n",
      "25%      129975.000000\n",
      "50%      163000.000000\n",
      "75%      214000.000000\n",
      "max      755000.000000\n",
      "Name: SalePrice, dtype: float64\n"
     ]
    }
   ],
   "source": [
    "print(df_house_prices['SalePrice'].describe())"
   ]
  },
  {
   "cell_type": "code",
   "execution_count": 31,
   "id": "d6bf5a56",
   "metadata": {},
   "outputs": [
    {
     "data": {
      "text/plain": [
       "MSSubClass      0\n",
       "MSZoning        0\n",
       "LotFrontage     0\n",
       "LotArea         0\n",
       "Street          0\n",
       "Alley           0\n",
       "LotShape        0\n",
       "LandContour     0\n",
       "Utilities       0\n",
       "LotConfig       0\n",
       "LandSlope       0\n",
       "Neighborhood    0\n",
       "Condition1      0\n",
       "Condition2      0\n",
       "BldgType        0\n",
       "HouseStyle      0\n",
       "OverallQual     0\n",
       "OverallCond     0\n",
       "YearBuilt       0\n",
       "YearRemodAdd    0\n",
       "dtype: int64"
      ]
     },
     "execution_count": 31,
     "metadata": {},
     "output_type": "execute_result"
    }
   ],
   "source": [
    "df_house_prices.isna().sum().sort_values(ascending=False).head(20)\n",
    "# We see that there are no more missing values in the dataset."
   ]
  },
  {
   "cell_type": "code",
   "execution_count": 33,
   "id": "474a4905",
   "metadata": {},
   "outputs": [
    {
     "data": {
      "text/plain": [
       "0       2416\n",
       "1       2240\n",
       "2       2272\n",
       "3       1933\n",
       "4       2853\n",
       "        ... \n",
       "1455    1647\n",
       "1456    3026\n",
       "1457    2615\n",
       "1458    2156\n",
       "1459    2376\n",
       "Length: 1460, dtype: int64"
      ]
     },
     "execution_count": 33,
     "metadata": {},
     "output_type": "execute_result"
    }
   ],
   "source": [
    "df_house_prices['TotalLivingArea'] = df_house_prices['1stFlrSF'] + df_house_prices['2ndFlrSF']\n",
    "+ df_house_prices['LowQualFinSF'] + df_house_prices['GrLivArea'] + df_house_prices['BsmtFinSF1'] + df_house_prices['BsmtFinSF2']\n",
    "# df_house_prices['TotalArea'] is a new feature that combines all living area spaces in the house."
   ]
  },
  {
   "cell_type": "code",
   "execution_count": 40,
   "id": "b2cdc07a",
   "metadata": {},
   "outputs": [
    {
     "name": "stdout",
     "output_type": "stream",
     "text": [
      "OverallQual        0.579396\n",
      "TotalLivingArea    0.090890\n",
      "TotalBsmtSF        0.040525\n",
      "BsmtFinSF1         0.033559\n",
      "2ndFlrSF           0.032551\n",
      "GrLivArea          0.031158\n",
      "1stFlrSF           0.025763\n",
      "GarageCars         0.025587\n",
      "LotArea            0.015519\n",
      "GarageArea         0.015230\n",
      "dtype: float64\n"
     ]
    }
   ],
   "source": [
    "# Let's see the most important feature to predict 'SalesPrice'\n",
    "from sklearn.ensemble import RandomForestRegressor\n",
    "\n",
    "X = df_house_prices.drop('SalePrice', axis=1)._get_numeric_data()\n",
    "y = df_house_prices['SalePrice']\n",
    "\n",
    "model = RandomForestRegressor(n_estimators=100, random_state=42)\n",
    "model.fit(X, y)\n",
    "\n",
    "importances = model.feature_importances_\n",
    "features = X.columns\n",
    "\n",
    "# Display top 10 features\n",
    "feature_importance = pd.Series(importances, index=features).sort_values(ascending=False)\n",
    "print(feature_importance.head(10))"
   ]
  },
  {
   "cell_type": "code",
   "execution_count": 44,
   "id": "5ba2db7e",
   "metadata": {},
   "outputs": [
    {
     "data": {
      "image/png": "[encoded data removed]",
      "text/plain": [
       "<Figure size 640x480 with 1 Axes>"
      ]
     },
     "metadata": {},
     "output_type": "display_data"
    }
   ],
   "source": [
    "# Visualize feature importances\n",
    "import matplotlib.pyplot as plt\n",
    "# As we can see, the most important feature to predict 'SalesPrice' is OverallQual, and so on...\n",
    "# We can see as well that the new feature 'TotalLivingArea' becames really important to predict.\n",
    "feature_importance.head(10).plot(kind='barh')\n",
    "plt.xlabel('Importance')\n",
    "plt.title('Top 10 Feature Importances')\n",
    "plt.show()"
   ]
  },
  {
   "cell_type": "code",
   "execution_count": null,
   "id": "9ec53f3f",
   "metadata": {},
   "outputs": [],
   "source": []
  }
 ],
 "metadata": {
  "kernelspec": {
   "display_name": "Python 3",
   "language": "python",
   "name": "python3"
  },
  "language_info": {
   "codemirror_mode": {
    "name": "ipython",
    "version": 3
   },
   "file_extension": ".py",
   "mimetype": "text/x-python",
   "name": "python",
   "nbconvert_exporter": "python",
   "pygments_lexer": "ipython3",
   "version": "3.13.2"
  }
 },
 "nbformat": 4,
 "nbformat_minor": 5
}
